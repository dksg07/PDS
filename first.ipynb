{
 "cells": [
  {
   "cell_type": "code",
   "execution_count": 1,
   "metadata": {},
   "outputs": [
    {
     "name": "stdout",
     "output_type": "stream",
     "text": [
      "hello world\n"
     ]
    }
   ],
   "source": [
    "print(\"hello world\")"
   ]
  },
  {
   "cell_type": "code",
   "execution_count": 2,
   "metadata": {},
   "outputs": [
    {
     "name": "stdout",
     "output_type": "stream",
     "text": [
      "15\n"
     ]
    }
   ],
   "source": [
    "x=5\n",
    "y=10\n",
    "print(x+y)\n"
   ]
  },
  {
   "cell_type": "code",
   "execution_count": 3,
   "metadata": {},
   "outputs": [
    {
     "name": "stdout",
     "output_type": "stream",
     "text": [
      "5455\n"
     ]
    }
   ],
   "source": [
    "x=input(\"Enter a number: \")\n",
    "y=input(\"Enter another number: \")\n",
    "print(x+y)"
   ]
  },
  {
   "cell_type": "code",
   "execution_count": 8,
   "metadata": {},
   "outputs": [
    {
     "name": "stdout",
     "output_type": "stream",
     "text": [
      "Hello-World\n"
     ]
    }
   ],
   "source": [
    "print(\"Hello\", \"World\", sep=\"-\")\n",
    "# Output: Hello-World"
   ]
  },
  {
   "cell_type": "code",
   "execution_count": 1,
   "metadata": {},
   "outputs": [
    {
     "name": "stdout",
     "output_type": "stream",
     "text": [
      "hsekid\n"
     ]
    }
   ],
   "source": [
    "d=\"dikesh\"\n",
    "print(d[::-1])"
   ]
  },
  {
   "cell_type": "code",
   "execution_count": null,
   "metadata": {},
   "outputs": [],
   "source": []
  },
  {
   "cell_type": "code",
   "execution_count": null,
   "metadata": {},
   "outputs": [],
   "source": []
  },
  {
   "cell_type": "code",
   "execution_count": 7,
   "metadata": {},
   "outputs": [
    {
     "name": "stdout",
     "output_type": "stream",
     "text": [
      "Hello World\n"
     ]
    }
   ],
   "source": [
    "print(\"Hello\", end=\" \")\n",
    "print(\"World\")"
   ]
  },
  {
   "cell_type": "code",
   "execution_count": 2,
   "metadata": {},
   "outputs": [
    {
     "name": "stdout",
     "output_type": "stream",
     "text": [
      "Concatenation: Hello World\n",
      "Repetition: HelloHelloHello\n",
      "Concatenated List: [1, 2, 3, 4, 5, 6]\n",
      "Repeated List: [1, 2, 3, 1, 2, 3]\n",
      "Concatenated Tuple: (1, 2, 3, 4, 5, 6)\n",
      "Repeated Tuple: (1, 2, 3, 1, 2, 3)\n",
      "Merged Dictionary: {'a': 1, 'b': 2, 'c': 3, 'd': 4}\n",
      "Union Set: {1, 2, 3, 4, 5}\n",
      "Intersection Set: {3}\n"
     ]
    }
   ],
   "source": [
    "# String operations\n",
    "str1 = \"Hello\"\n",
    "str2 = \"World\"\n",
    "concatenation = str1 + \" \" + str2\n",
    "repetition = str1 * 3\n",
    "print(\"Concatenation:\", concatenation)\n",
    "print(\"Repetition:\", repetition)\n",
    "\n",
    "# List operations\n",
    "list1 = [1, 2, 3]\n",
    "list2 = [4, 5, 6]\n",
    "concatenated_list = list1 + list2\n",
    "repeated_list = list1 * 2\n",
    "print(\"Concatenated List:\", concatenated_list)\n",
    "print(\"Repeated List:\", repeated_list)\n",
    "\n",
    "# Tuple operations\n",
    "tuple1 = (1, 2, 3)\n",
    "tuple2 = (4, 5, 6)\n",
    "concatenated_tuple = tuple1 + tuple2\n",
    "repeated_tuple = tuple1 * 2\n",
    "print(\"Concatenated Tuple:\", concatenated_tuple)\n",
    "print(\"Repeated Tuple:\", repeated_tuple)\n",
    "\n",
    "# Dictionary operations\n",
    "dict1 = {'a': 1, 'b': 2}\n",
    "dict2 = {'c': 3, 'd': 4}\n",
    "merged_dict = {**dict1, **dict2}\n",
    "print(\"Merged Dictionary:\", merged_dict)\n",
    "\n",
    "# Set operations\n",
    "set1 = {1, 2, 3}\n",
    "set2 = {3, 4, 5}\n",
    "union_set = set1 | set2\n",
    "intersection_set = set1 & set2\n",
    "print(\"Union Set:\", union_set)\n",
    "print(\"Intersection Set:\", intersection_set)"
   ]
  },
  {
   "cell_type": "code",
   "execution_count": null,
   "metadata": {
    "vscode": {
     "languageId": "julia"
    }
   },
   "outputs": [],
   "source": [
    "# String operations\n",
    "str3 = \"Python\"\n",
    "str4 = \"Programming\"\n",
    "# Indexing\n",
    "print(\"Indexing str3[0]:\", str3[0])\n",
    "# Slicing\n",
    "print(\"Slicing str3[1:4]:\", str3[1:4])\n",
    "# Concatenation\n",
    "concatenated_str = str3 + \" \" + str4\n",
    "print(\"Concatenated String:\", concatenated_str)\n",
    "# Repetition\n",
    "repeated_str = str3 * 2\n",
    "print(\"Repeated String:\", repeated_str)\n",
    "\n",
    "# List operations\n",
    "list3 = [7, 8, 9]\n",
    "list4 = [10, 11, 12]\n",
    "# Indexing\n",
    "print(\"Indexing list3[0]:\", list3[0])\n",
    "# Slicing\n",
    "print(\"Slicing list3[1:3]:\", list3[1:3])\n",
    "# Concatenation\n",
    "concatenated_list_new = list3 + list4\n",
    "print(\"Concatenated List:\", concatenated_list_new)\n",
    "# Repetition\n",
    "repeated_list_new = list3 * 2\n",
    "print(\"Repeated List:\", repeated_list_new)\n",
    "\n",
    "# Tuple operations\n",
    "tuple3 = (7, 8, 9)\n",
    "tuple4 = (10, 11, 12)\n",
    "# Indexing\n",
    "print(\"Indexing tuple3[0]:\", tuple3[0])\n",
    "# Slicing\n",
    "print(\"Slicing tuple3[1:3]:\", tuple3[1:3])\n",
    "# Concatenation\n",
    "concatenated_tuple_new = tuple3 + tuple4\n",
    "print(\"Concatenated Tuple:\", concatenated_tuple_new)\n",
    "# Repetition\n",
    "repeated_tuple_new = tuple3 * 2\n",
    "print(\"Repeated Tuple:\", repeated_tuple_new)\n",
    "\n",
    "# Set operations\n",
    "set3 = {6, 7, 8}\n",
    "set4 = {8, 9, 10}\n",
    "# Union\n",
    "union_set_new = set3 | set4\n",
    "print(\"Union Set:\", union_set_new)\n",
    "# Intersection\n",
    "intersection_set_new = set3 & set4\n",
    "print(\"Intersection Set:\", intersection_set_new)\n",
    "\n",
    "# Dictionary operations\n",
    "dict3 = {'e': 5, 'f': 6}\n",
    "dict4 = {'g': 7, 'h': 8}\n",
    "# Indexing\n",
    "print(\"Indexing dict3['e']:\", dict3['e'])\n",
    "# Merging\n",
    "merged_dict_new = {**dict3, **dict4}\n",
    "print(\"Merged Dictionary:\", merged_dict_new)"
   ]
  }
 ],
 "metadata": {
  "kernelspec": {
   "display_name": "Python 3",
   "language": "python",
   "name": "python3"
  },
  "language_info": {
   "codemirror_mode": {
    "name": "ipython",
    "version": 3
   },
   "file_extension": ".py",
   "mimetype": "text/x-python",
   "name": "python",
   "nbconvert_exporter": "python",
   "pygments_lexer": "ipython3",
   "version": "3.11.9"
  }
 },
 "nbformat": 4,
 "nbformat_minor": 2
}
